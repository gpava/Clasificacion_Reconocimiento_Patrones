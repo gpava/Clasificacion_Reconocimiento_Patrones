{
  "nbformat": 4,
  "nbformat_minor": 0,
  "metadata": {
    "colab": {
      "provenance": []
    },
    "kernelspec": {
      "name": "python3",
      "display_name": "Python 3"
    },
    "language_info": {
      "name": "python"
    }
  },
  "cells": [
    {
      "cell_type": "markdown",
      "source": [
        "# Introduccion a la regresión logística\n",
        "En esta sección se presenta conceptos fundamentales de la regresión logistica, y el perceptron con funcion de activación sigmoide, para ello trabajaremos con la libreria sklearn"
      ],
      "metadata": {
        "id": "Ol6njVZOrrzx"
      }
    },
    {
      "cell_type": "code",
      "execution_count": null,
      "metadata": {
        "id": "ih4jVW0Zn7eH"
      },
      "outputs": [],
      "source": [
        "from sklearn import __version__ as sklearn_version\n",
        "from distutils.version import LooseVersion\n",
        "\n",
        "if LooseVersion(sklearn_version) < LooseVersion('0.18'):\n",
        "    raise ValueError('Please use scikit-learn 0.18 or newer')"
      ]
    },
    {
      "cell_type": "code",
      "source": [
        "from IPython.display import Image\n",
        "%matplotlib inline"
      ],
      "metadata": {
        "id": "gr_7q12ioH6g"
      },
      "execution_count": null,
      "outputs": []
    },
    {
      "cell_type": "markdown",
      "source": [
        "Usando la libreria daset podemos cargar varias bases de datos para ensayar los diferentes conceptos que se desarrollaran en el curso. En particular la data de Iris"
      ],
      "metadata": {
        "id": "UfJbWoZ3E3yM"
      }
    },
    {
      "cell_type": "code",
      "source": [
        "from sklearn import datasets\n",
        "import numpy as np\n",
        "\n",
        "iris = datasets.load_iris()\n",
        "X = iris.data[:, [2, 3]]\n",
        "y = iris.target\n",
        "\n",
        "print('Class labels:', np.unique(y))"
      ],
      "metadata": {
        "colab": {
          "base_uri": "https://localhost:8080/"
        },
        "id": "RkTDbNX4oNcW",
        "outputId": "14ec7e7a-fdd5-4338-c4f5-34d9a4398d19"
      },
      "execution_count": null,
      "outputs": [
        {
          "output_type": "stream",
          "name": "stdout",
          "text": [
            "Class labels: [0 1 2]\n"
          ]
        }
      ]
    },
    {
      "cell_type": "markdown",
      "source": [
        "Se particionan los datos y sus etiquetas en conjunto de entrenamiento 70% y conjunto de prueba 30% estratificado para que mantenga esta proporción para cada una de las clases que se pretenden discriminar"
      ],
      "metadata": {
        "id": "kW16kBW_Fis2"
      }
    },
    {
      "cell_type": "code",
      "source": [
        "from sklearn.model_selection import train_test_split\n",
        "\n",
        "X_train, X_test, y_train, y_test = train_test_split(\n",
        "    X, y, test_size=0.3, random_state=1, stratify=y)"
      ],
      "metadata": {
        "id": "_kqMXwIIoRGu"
      },
      "execution_count": null,
      "outputs": []
    },
    {
      "cell_type": "code",
      "source": [
        "print('Labels counts in y:', np.bincount(y))\n",
        "print('Labels counts in y_train:', np.bincount(y_train))\n",
        "print('Labels counts in y_test:', np.bincount(y_test))"
      ],
      "metadata": {
        "colab": {
          "base_uri": "https://localhost:8080/"
        },
        "id": "XXfioq7YoUG6",
        "outputId": "8b339ad9-edfd-426e-e9df-780bdf1b2132"
      },
      "execution_count": null,
      "outputs": [
        {
          "output_type": "stream",
          "name": "stdout",
          "text": [
            "Labels counts in y: [50 50 50]\n",
            "Labels counts in y_train: [35 35 35]\n",
            "Labels counts in y_test: [15 15 15]\n"
          ]
        }
      ]
    },
    {
      "cell_type": "markdown",
      "source": [
        "Normalizacion de los datos para evitar las variables con rangos muy altos generen errores de clasificación"
      ],
      "metadata": {
        "id": "ybyKCO18GUqn"
      }
    },
    {
      "cell_type": "code",
      "source": [
        "from sklearn.preprocessing import StandardScaler\n",
        "\n",
        "sc = StandardScaler()\n",
        "sc.fit(X_train)\n",
        "X_train_std = sc.transform(X_train)\n",
        "X_test_std = sc.transform(X_test)"
      ],
      "metadata": {
        "id": "qksk5A57oYfv"
      },
      "execution_count": null,
      "outputs": []
    },
    {
      "cell_type": "markdown",
      "source": [
        "Se carga la libreria liner_model esta contiene varias tipos de regresores y clasificadores entre ellos regresiones lineales, logistica, bayesiana y perceptron. En este caso se genera el objeto perceptron con 40 iteraciones, taza de aprendizaje 0.1 semilla de aleatoriedad 1, luego se llama el procedimiento ajuste fit con los datos de entrenamiento X_trann_std y sus etiquetas y_train"
      ],
      "metadata": {
        "id": "yy2yQmhBG1Hb"
      }
    },
    {
      "cell_type": "code",
      "source": [
        "from sklearn.linear_model import Perceptron\n",
        "\n",
        "ppn = Perceptron(max_iter=40, eta0=0.1, random_state=1)\n",
        "ppn.fit(X_train_std, y_train)"
      ],
      "metadata": {
        "colab": {
          "base_uri": "https://localhost:8080/"
        },
        "id": "qIgjGudYodHT",
        "outputId": "63294445-2d6c-47bd-c366-7c1676298da9"
      },
      "execution_count": null,
      "outputs": [
        {
          "output_type": "execute_result",
          "data": {
            "text/plain": [
              "Perceptron(eta0=0.1, max_iter=40, random_state=1)"
            ]
          },
          "metadata": {},
          "execution_count": 7
        }
      ]
    },
    {
      "cell_type": "markdown",
      "source": [
        "Para estimar las etiquetas con los datos de prueba X_test usamos el procedimiento ppn.predict\n"
      ],
      "metadata": {
        "id": "W2P3jTuMIoDX"
      }
    },
    {
      "cell_type": "code",
      "source": [
        "y_pred = ppn.predict(X_test_std)\n",
        "print('Misclassified samples: %d' % (y_test != y_pred).sum())\n",
        "[(s,t) for s,t in zip(y_pred,y_test)]"
      ],
      "metadata": {
        "colab": {
          "base_uri": "https://localhost:8080/"
        },
        "id": "s_x-ny7qoj31",
        "outputId": "37f2d4a2-68cb-44dc-f59c-c388cb7151c8"
      },
      "execution_count": null,
      "outputs": [
        {
          "output_type": "stream",
          "name": "stdout",
          "text": [
            "Misclassified samples: 1\n"
          ]
        },
        {
          "output_type": "execute_result",
          "data": {
            "text/plain": [
              "[(2, 2),\n",
              " (0, 0),\n",
              " (0, 0),\n",
              " (2, 2),\n",
              " (1, 1),\n",
              " (1, 1),\n",
              " (2, 2),\n",
              " (1, 1),\n",
              " (2, 2),\n",
              " (0, 0),\n",
              " (0, 0),\n",
              " (2, 2),\n",
              " (0, 0),\n",
              " (1, 1),\n",
              " (0, 0),\n",
              " (1, 1),\n",
              " (2, 2),\n",
              " (1, 1),\n",
              " (1, 1),\n",
              " (2, 2),\n",
              " (2, 2),\n",
              " (0, 0),\n",
              " (1, 1),\n",
              " (2, 2),\n",
              " (1, 1),\n",
              " (1, 1),\n",
              " (0, 1),\n",
              " (2, 2),\n",
              " (0, 0),\n",
              " (2, 2),\n",
              " (0, 0),\n",
              " (0, 0),\n",
              " (1, 1),\n",
              " (1, 1),\n",
              " (2, 2),\n",
              " (2, 2),\n",
              " (0, 0),\n",
              " (0, 0),\n",
              " (0, 0),\n",
              " (1, 1),\n",
              " (2, 2),\n",
              " (2, 2),\n",
              " (1, 1),\n",
              " (0, 0),\n",
              " (0, 0)]"
            ]
          },
          "metadata": {},
          "execution_count": 8
        }
      ]
    },
    {
      "cell_type": "markdown",
      "source": [
        "La libreria sklearn.metrics podemos usar las diferentes metricas para determinar la bondad de la clasificación en este caso presición es decir el total de verdaderos positivos con la función accuracy_score"
      ],
      "metadata": {
        "id": "fcOZQI7JJB8C"
      }
    },
    {
      "cell_type": "code",
      "source": [
        "from sklearn.metrics import accuracy_score\n",
        "\n",
        "print('Accuracy: %.2f' % accuracy_score(y_test, y_pred))"
      ],
      "metadata": {
        "colab": {
          "base_uri": "https://localhost:8080/"
        },
        "id": "Nc6Y0EMSopGa",
        "outputId": "dfa9c1a0-6543-42f7-89d9-8ff0249b6f38"
      },
      "execution_count": null,
      "outputs": [
        {
          "output_type": "stream",
          "name": "stdout",
          "text": [
            "Accuracy: 0.98\n"
          ]
        }
      ]
    },
    {
      "cell_type": "code",
      "source": [
        "print('Accuracy: %.2f' % ppn.score(X_test_std, y_test))"
      ],
      "metadata": {
        "colab": {
          "base_uri": "https://localhost:8080/"
        },
        "id": "8hyvCpKzosmp",
        "outputId": "7272d582-5899-4986-b62e-bb34e0c15423"
      },
      "execution_count": null,
      "outputs": [
        {
          "output_type": "stream",
          "name": "stdout",
          "text": [
            "Accuracy: 0.98\n"
          ]
        }
      ]
    },
    {
      "cell_type": "markdown",
      "source": [
        "Procedimiento para graficar los conjuntos de datos separador por clases. y sus pronosticos. Además, se encerraron con un círculon los datos que se tomaron en la prueba"
      ],
      "metadata": {
        "id": "PWRxOhr3JyK8"
      }
    },
    {
      "cell_type": "code",
      "source": [
        "from matplotlib.colors import ListedColormap\n",
        "import matplotlib.pyplot as plt\n",
        "\n",
        "\n",
        "def plot_decision_regions(X, y, classifier, test_idx=None, resolution=0.02):\n",
        "\n",
        "    # setup marker generator and color map\n",
        "    markers = ('s', 'x', 'o', '^', 'v')\n",
        "    colors = ('red', 'blue', 'lightgreen', 'gray', 'cyan')\n",
        "    cmap = ListedColormap(colors[:len(np.unique(y))])\n",
        "\n",
        "    # plot the decision surface\n",
        "    x1_min, x1_max = X[:, 0].min() - 1, X[:, 0].max() + 1\n",
        "    x2_min, x2_max = X[:, 1].min() - 1, X[:, 1].max() + 1\n",
        "    xx1, xx2 = np.meshgrid(np.arange(x1_min, x1_max, resolution),\n",
        "                           np.arange(x2_min, x2_max, resolution))\n",
        "    Z = classifier.predict(np.array([xx1.ravel(), xx2.ravel()]).T)\n",
        "    Z = Z.reshape(xx1.shape)\n",
        "    plt.contourf(xx1, xx2, Z, alpha=0.3, cmap=cmap)\n",
        "    plt.xlim(xx1.min(), xx1.max())\n",
        "    plt.ylim(xx2.min(), xx2.max())\n",
        "\n",
        "    for idx, cl in enumerate(np.unique(y)):\n",
        "        plt.scatter(x=X[y == cl, 0],\n",
        "                    y=X[y == cl, 1],\n",
        "                    alpha=0.8,\n",
        "                    c=colors[idx],\n",
        "                    marker=markers[idx],\n",
        "                    label=cl,\n",
        "                    edgecolor='black')\n",
        "\n",
        "    # highlight test samples\n",
        "    if test_idx:\n",
        "        # plot all samples\n",
        "        X_test, y_test = X[test_idx, :], y[test_idx]\n",
        "\n",
        "        plt.scatter(X_test[:, 0],\n",
        "                    X_test[:, 1],\n",
        "                    c='',\n",
        "                    edgecolor='black',\n",
        "                    alpha=1.0,\n",
        "                    linewidth=1,\n",
        "                    marker='o',\n",
        "                    s=100,\n",
        "                    label='test set')"
      ],
      "metadata": {
        "id": "5-wVmQbFowSD"
      },
      "execution_count": null,
      "outputs": []
    },
    {
      "cell_type": "code",
      "source": [
        "X_combined_std = np.vstack((X_train_std, X_test_std))\n",
        "y_combined = np.hstack((y_train, y_test))\n",
        "\n",
        "plot_decision_regions(X=X_combined_std, y=y_combined,\n",
        "                      classifier=ppn, test_idx=range(105, 150))\n",
        "plt.xlabel('petal length [standardized]')\n",
        "plt.ylabel('petal width [standardized]')\n",
        "plt.legend(loc='upper left')\n",
        "\n",
        "plt.tight_layout()\n",
        "plt.show()"
      ],
      "metadata": {
        "colab": {
          "base_uri": "https://localhost:8080/",
          "height": 314
        },
        "id": "eSlr07YFo1op",
        "outputId": "3c43ba01-8d0c-48b3-a427-014323bbc43d"
      },
      "execution_count": null,
      "outputs": [
        {
          "output_type": "stream",
          "name": "stderr",
          "text": [
            "/usr/local/lib/python3.7/dist-packages/ipykernel_launcher.py:45: MatplotlibDeprecationWarning: Using a string of single character colors as a color sequence is deprecated. Use an explicit list instead.\n"
          ]
        },
        {
          "output_type": "display_data",
          "data": {
            "text/plain": [
              "<Figure size 432x288 with 1 Axes>"
            ],
            "image/png": "[encoded data removed]"
          },
          "metadata": {
            "needs_background": "light"
          }
        }
      ]
    },
    {
      "cell_type": "markdown",
      "source": [
        "# Construcción de la funcion Sigmoide y Logistica\n",
        "\n",
        "$\\phi (z) = \\frac{1}{1 + e^{-z}}$"
      ],
      "metadata": {
        "id": "9pN-OdhyKcpT"
      }
    },
    {
      "cell_type": "code",
      "source": [
        "import matplotlib.pyplot as plt\n",
        "import numpy as np\n",
        "\n",
        "\n",
        "def sigmoid(z):\n",
        "    return 1.0 / (1.0 + np.exp(-z))\n",
        "\n",
        "z = np.arange(-7, 7, 0.1)\n",
        "phi_z = sigmoid(z)\n",
        "\n",
        "plt.plot(z, phi_z)\n",
        "plt.axvline(0.0, color='k')\n",
        "plt.ylim(-0.1, 1.1)\n",
        "plt.xlabel('z')\n",
        "plt.ylabel('$\\phi (z)$')\n",
        "\n",
        "# y axis ticks and gridline\n",
        "plt.yticks([0.0, 0.25, 0.5, 0.75, 1.0])\n",
        "ax = plt.gca()\n",
        "ax.yaxis.grid(True)\n",
        "ax.xaxis.grid(True)\n",
        "\n",
        "\n",
        "plt.tight_layout()\n",
        "\n",
        "plt.show()"
      ],
      "metadata": {
        "colab": {
          "base_uri": "https://localhost:8080/",
          "height": 297
        },
        "id": "YbioMli-o8lj",
        "outputId": "f3f058d9-c2d6-4ace-8c0c-ea215c64b7ab"
      },
      "execution_count": null,
      "outputs": [
        {
          "output_type": "display_data",
          "data": {
            "text/plain": [
              "<Figure size 432x288 with 1 Axes>"
            ],
            "image/png": "[encoded data removed]"
          },
          "metadata": {
            "needs_background": "light"
          }
        }
      ]
    },
    {
      "cell_type": "code",
      "source": [
        "def cost_1(z):\n",
        "    return - np.log(sigmoid(z))\n",
        "\n",
        "\n",
        "def cost_0(z):\n",
        "    return - np.log(1 - sigmoid(z))\n",
        "\n",
        "z = np.arange(-10, 10, 0.1)\n",
        "phi_z = sigmoid(z)\n",
        "\n",
        "c1 = [cost_1(x) for x in z]\n",
        "plt.plot(phi_z, c1, label='J(w) if y=1')\n",
        "\n",
        "c0 = [cost_0(x) for x in z]\n",
        "plt.plot(phi_z, c0, linestyle='--', label='J(w) if y=0')\n",
        "\n",
        "plt.ylim(0.0, 5.1)\n",
        "plt.xlim([0, 1])\n",
        "\n",
        "plt.yticks([0, 1, 2, 3, 4, 5, 6])\n",
        "ax = plt.gca()\n",
        "ax.yaxis.grid(True)\n",
        "ax.xaxis.grid(True)\n",
        "\n",
        "\n",
        "plt.xlabel('$\\phi$(z)')\n",
        "plt.ylabel('J(w)')\n",
        "plt.legend(loc='best')\n",
        "plt.tight_layout()\n",
        "#plt.savefig('images/03_04.png', dpi=300)\n",
        "plt.show()"
      ],
      "metadata": {
        "colab": {
          "base_uri": "https://localhost:8080/",
          "height": 297
        },
        "id": "r4DNfKfgpCul",
        "outputId": "230aed7f-272a-49a5-abab-2e24a861e05f"
      },
      "execution_count": null,
      "outputs": [
        {
          "output_type": "display_data",
          "data": {
            "text/plain": [
              "<Figure size 432x288 with 1 Axes>"
            ],
            "image/png": "[encoded data removed]"
          },
          "metadata": {
            "needs_background": "light"
          }
        }
      ]
    },
    {
      "cell_type": "code",
      "source": [
        "class LogisticRegressionGD(object):\n",
        "    \"\"\"Logistic Regression Classifier using gradient descent.\n",
        "\n",
        "    Parameters\n",
        "    ------------\n",
        "    eta : float\n",
        "      Learning rate (between 0.0 and 1.0)\n",
        "    n_iter : int\n",
        "      Passes over the training dataset.\n",
        "    random_state : int\n",
        "      Random number generator seed for random weight\n",
        "      initialization.\n",
        "\n",
        "\n",
        "    Attributes\n",
        "    -----------\n",
        "    w_ : 1d-array\n",
        "      Weights after fitting.\n",
        "    cost_ : list\n",
        "      Sum-of-squares cost function value in each epoch.\n",
        "\n",
        "    \"\"\"\n",
        "    def __init__(self, eta=0.05, n_iter=100, random_state=1):\n",
        "        self.eta = eta\n",
        "        self.n_iter = n_iter\n",
        "        self.random_state = random_state\n",
        "\n",
        "    def fit(self, X, y):\n",
        "        \"\"\" Fit training data.\n",
        "\n",
        "        Parameters\n",
        "        ----------\n",
        "        X : {array-like}, shape = [n_samples, n_features]\n",
        "          Training vectors, where n_samples is the number of samples and\n",
        "          n_features is the number of features.\n",
        "        y : array-like, shape = [n_samples]\n",
        "          Target values.\n",
        "\n",
        "        Returns\n",
        "        -------\n",
        "        self : object\n",
        "\n",
        "        \"\"\"\n",
        "        rgen = np.random.RandomState(self.random_state)\n",
        "        self.w_ = rgen.normal(loc=0.0, scale=0.01, size=1 + X.shape[1])\n",
        "        self.cost_ = []\n",
        "\n",
        "        for i in range(self.n_iter):\n",
        "            net_input = self.net_input(X)\n",
        "            output = self.activation(net_input)\n",
        "            errors = (y - output)\n",
        "            self.w_[1:] += self.eta * X.T.dot(errors)\n",
        "            self.w_[0] += self.eta * errors.sum()\n",
        "\n",
        "            # note that we compute the logistic `cost` now\n",
        "            # instead of the sum of squared errors cost\n",
        "            cost = -y.dot(np.log(output)) - ((1 - y).dot(np.log(1 - output)))\n",
        "            self.cost_.append(cost)\n",
        "        return self\n",
        "\n",
        "    def net_input(self, X):\n",
        "        \"\"\"Calculate net input\"\"\"\n",
        "        return np.dot(X, self.w_[1:]) + self.w_[0]\n",
        "\n",
        "    def activation(self, z):\n",
        "        \"\"\"Compute logistic sigmoid activation\"\"\"\n",
        "        return 1. / (1. + np.exp(-np.clip(z, -250, 250)))\n",
        "\n",
        "    def predict(self, X):\n",
        "        \"\"\"Return class label after unit step\"\"\"\n",
        "        return np.where(self.net_input(X) >= 0.0, 1, 0)\n",
        "        # equivalent to:\n",
        "        # return np.where(self.activation(self.net_input(X)) >= 0.5, 1, 0)"
      ],
      "metadata": {
        "id": "fOaJUioapHuC"
      },
      "execution_count": null,
      "outputs": []
    },
    {
      "cell_type": "code",
      "source": [
        "X_train_01_subset = X_train[(y_train == 0) | (y_train == 1)]\n",
        "y_train_01_subset = y_train[(y_train == 0) | (y_train == 1)]\n",
        "\n",
        "lrgd = LogisticRegressionGD(eta=0.05, n_iter=1000, random_state=1)\n",
        "lrgd.fit(X_train_01_subset,\n",
        "         y_train_01_subset)\n",
        "\n",
        "plot_decision_regions(X=X_train_01_subset,\n",
        "                      y=y_train_01_subset,\n",
        "                      classifier=lrgd)\n",
        "\n",
        "plt.xlabel('petal length [standardized]')\n",
        "plt.ylabel('petal width [standardized]')\n",
        "plt.legend(loc='upper left')\n",
        "\n",
        "plt.tight_layout()\n",
        "#plt.savefig('images/03_05.png', dpi=300)\n",
        "plt.show()"
      ],
      "metadata": {
        "colab": {
          "base_uri": "https://localhost:8080/",
          "height": 297
        },
        "id": "eeqZIRttpOCA",
        "outputId": "4c936b6e-4f7e-4825-a9f5-99535df26bd5"
      },
      "execution_count": null,
      "outputs": [
        {
          "output_type": "display_data",
          "data": {
            "text/plain": [
              "<Figure size 432x288 with 1 Axes>"
            ],
            "image/png": "[encoded data removed]"
          },
          "metadata": {
            "needs_background": "light"
          }
        }
      ]
    },
    {
      "cell_type": "code",
      "source": [
        "from sklearn.linear_model import LogisticRegression\n",
        "\n",
        "lr = LogisticRegression(C=100.0, random_state=1)\n",
        "lr.fit(X_train_std, y_train)\n",
        "\n",
        "plot_decision_regions(X_combined_std, y_combined,\n",
        "                      classifier=lr, test_idx=range(105, 150))\n",
        "plt.xlabel('petal length [standardized]')\n",
        "plt.ylabel('petal width [standardized]')\n",
        "plt.legend(loc='upper left')\n",
        "plt.tight_layout()\n",
        "#plt.savefig('images/03_06.png', dpi=300)\n",
        "plt.show()"
      ],
      "metadata": {
        "colab": {
          "base_uri": "https://localhost:8080/",
          "height": 314
        },
        "id": "sp10rX1dpUEM",
        "outputId": "04b47eee-005a-47fb-c5a7-4847fa0c465e"
      },
      "execution_count": null,
      "outputs": [
        {
          "output_type": "stream",
          "name": "stderr",
          "text": [
            "/usr/local/lib/python3.7/dist-packages/ipykernel_launcher.py:45: MatplotlibDeprecationWarning: Using a string of single character colors as a color sequence is deprecated. Use an explicit list instead.\n"
          ]
        },
        {
          "output_type": "display_data",
          "data": {
            "text/plain": [
              "<Figure size 432x288 with 1 Axes>"
            ],
            "image/png": "[encoded data removed]"
          },
          "metadata": {
            "needs_background": "light"
          }
        }
      ]
    },
    {
      "cell_type": "code",
      "source": [
        "lr.predict_proba(X_test_std[:3, :])"
      ],
      "metadata": {
        "colab": {
          "base_uri": "https://localhost:8080/"
        },
        "id": "-4TLwGtLpYwr",
        "outputId": "9334e3cf-e8d3-47cd-9443-c130440d18d9"
      },
      "execution_count": null,
      "outputs": [
        {
          "output_type": "execute_result",
          "data": {
            "text/plain": [
              "array([[1.52213484e-12, 3.85303417e-04, 9.99614697e-01],\n",
              "       [9.93560717e-01, 6.43928295e-03, 1.14112016e-15],\n",
              "       [9.98655228e-01, 1.34477208e-03, 1.76178271e-17]])"
            ]
          },
          "metadata": {},
          "execution_count": 21
        }
      ]
    },
    {
      "cell_type": "code",
      "source": [
        "lr.predict_proba(X_test_std[:3, :]).sum(axis=1)"
      ],
      "metadata": {
        "colab": {
          "base_uri": "https://localhost:8080/"
        },
        "id": "OYv4-X36pZkx",
        "outputId": "26c06bab-066d-4ddd-c1e0-8dbbdbb3c340"
      },
      "execution_count": null,
      "outputs": [
        {
          "output_type": "execute_result",
          "data": {
            "text/plain": [
              "array([1., 1., 1.])"
            ]
          },
          "metadata": {},
          "execution_count": 22
        }
      ]
    },
    {
      "cell_type": "code",
      "source": [
        "lr.predict_proba(X_test_std[:3, :]).argmax(axis=1)"
      ],
      "metadata": {
        "colab": {
          "base_uri": "https://localhost:8080/"
        },
        "id": "siWtb6Topd6I",
        "outputId": "28bb0b5d-1424-4019-b69c-76c8a11d1e57"
      },
      "execution_count": null,
      "outputs": [
        {
          "output_type": "execute_result",
          "data": {
            "text/plain": [
              "array([2, 0, 0])"
            ]
          },
          "metadata": {},
          "execution_count": 23
        }
      ]
    },
    {
      "cell_type": "code",
      "source": [
        "lr.predict(X_test_std[:3, :])"
      ],
      "metadata": {
        "colab": {
          "base_uri": "https://localhost:8080/"
        },
        "id": "XUzEiXKlpi_1",
        "outputId": "de21862c-9e24-48af-dd8a-0b7cb3b20360"
      },
      "execution_count": null,
      "outputs": [
        {
          "output_type": "execute_result",
          "data": {
            "text/plain": [
              "array([2, 0, 0])"
            ]
          },
          "metadata": {},
          "execution_count": 24
        }
      ]
    },
    {
      "cell_type": "code",
      "source": [
        "lr.predict(X_test_std[0, :].reshape(1, -1))"
      ],
      "metadata": {
        "colab": {
          "base_uri": "https://localhost:8080/"
        },
        "id": "cY5NDftspoo9",
        "outputId": "67633221-7ac6-4a13-e7e0-3dabb724b5cf"
      },
      "execution_count": null,
      "outputs": [
        {
          "output_type": "execute_result",
          "data": {
            "text/plain": [
              "array([2])"
            ]
          },
          "metadata": {},
          "execution_count": 25
        }
      ]
    }
  ]
}